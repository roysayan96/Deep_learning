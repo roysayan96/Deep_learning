{
  "nbformat": 4,
  "nbformat_minor": 0,
  "metadata": {
    "colab": {
      "name": "Deep learning Q1.ipynb",
      "provenance": [],
      "authorship_tag": "ABX9TyN454tBtQuBD0pSvOML859n",
      "include_colab_link": true
    },
    "kernelspec": {
      "name": "python3",
      "display_name": "Python 3"
    }
  },
  "cells": [
    {
      "cell_type": "markdown",
      "metadata": {
        "id": "view-in-github",
        "colab_type": "text"
      },
      "source": [
        "<a href=\"https://colab.research.google.com/github/roysayan96/Deep_learning/blob/main/Deep_learning_Q1.ipynb\" target=\"_parent\"><img src=\"https://colab.research.google.com/assets/colab-badge.svg\" alt=\"Open In Colab\"/></a>"
      ]
    },
    {
      "cell_type": "code",
      "metadata": {
        "id": "QVfL635aB_IY"
      },
      "source": [
        "import numpy as np"
      ],
      "execution_count": null,
      "outputs": []
    },
    {
      "cell_type": "code",
      "metadata": {
        "colab": {
          "base_uri": "https://localhost:8080/"
        },
        "id": "M2CI36VtCLOF",
        "outputId": "bb003705-d2ad-4cba-90c3-3f8898389a1e"
      },
      "source": [
        "values = ([2,3],[5,6],[8,9])\r\n",
        "print(\"Training input values without Bias\\n\", values)"
      ],
      "execution_count": null,
      "outputs": [
        {
          "output_type": "stream",
          "text": [
            "Training input values without Bias\n",
            " ([2, 3], [5, 6], [8, 9])\n"
          ],
          "name": "stdout"
        }
      ]
    },
    {
      "cell_type": "code",
      "metadata": {
        "colab": {
          "base_uri": "https://localhost:8080/"
        },
        "id": "zuKSgOBPCLoZ",
        "outputId": "b50c8c55-6600-4e10-c578-0a39b8d9e22e"
      },
      "source": [
        "#Adding Bias to the input values\r\n",
        "test2 = [[-1]] * len(values)\r\n",
        "values = np.concatenate((test2, values), axis = 1)  \r\n",
        "print(\"Training input values with bias in it\\n\",values)"
      ],
      "execution_count": null,
      "outputs": [
        {
          "output_type": "stream",
          "text": [
            "Training input values with bias in it\n",
            " [[-1  2  3]\n",
            " [-1  5  6]\n",
            " [-1  8  9]]\n"
          ],
          "name": "stdout"
        }
      ]
    },
    {
      "cell_type": "code",
      "metadata": {
        "id": "N8hOogAUGNGt"
      },
      "source": [
        ""
      ],
      "execution_count": null,
      "outputs": []
    },
    {
      "cell_type": "code",
      "metadata": {
        "colab": {
          "base_uri": "https://localhost:8080/"
        },
        "id": "hDuse0eMCOfy",
        "outputId": "9a7498c2-7b64-44c4-e510-aa5decbbbe29"
      },
      "source": [
        "#Creating random weights\r\n",
        "m=3     #number of elements in each row of inputs\r\n",
        "n=1 \r\n",
        "weights = np.random.rand(m,n)*0.1 - 0.5\r\n",
        "print(\"Initial random weights\\n\",weights)"
      ],
      "execution_count": null,
      "outputs": [
        {
          "output_type": "stream",
          "text": [
            "Initial random weights\n",
            " [[-0.4815159 ]\n",
            " [-0.42362923]\n",
            " [-0.47618961]]\n"
          ],
          "name": "stdout"
        }
      ]
    },
    {
      "cell_type": "code",
      "metadata": {
        "colab": {
          "base_uri": "https://localhost:8080/"
        },
        "id": "EgvxbbY6CQeZ",
        "outputId": "5bf6d977-0244-469c-80fe-2c104f09a412"
      },
      "source": [
        "#Target values Matrix\r\n",
        "final = ([0],[1],[1])\r\n",
        "print(\"Training data target values are\\n\", final)"
      ],
      "execution_count": null,
      "outputs": [
        {
          "output_type": "stream",
          "text": [
            "Training data target values are\n",
            " ([0], [1], [1])\n"
          ],
          "name": "stdout"
        }
      ]
    },
    {
      "cell_type": "code",
      "metadata": {
        "id": "FcgaTJM8CTbd"
      },
      "source": [
        "#Method for updating weights\r\n",
        "def updateWeights(weights, inputs, activation, targets):\r\n",
        "    eta = 0.25\r\n",
        "    weights += eta*np.dot(np.transpose(inputs), targets - activation)\r\n",
        "    return weights"
      ],
      "execution_count": null,
      "outputs": []
    },
    {
      "cell_type": "code",
      "metadata": {
        "id": "jsnSbDN2CVrT"
      },
      "source": [
        "#Creating Methods for Learning\r\n",
        "def  prediction (inputs, weights, targets):\r\n",
        "    #representing Activation function with 'ack [[]]' variable\r\n",
        "    ack = [[0]] * len(inputs)\r\n",
        "    for i in range(0, len(inputs)):    \r\n",
        "        for j in range(0,len(weights)):\r\n",
        "            ack[i] += inputs[i][j] * weights[j]\r\n",
        "        ack[i] = np.where(ack[i]>0, 1, 0)\r\n",
        "        #checking values with target\r\n",
        "        if(targets[i] != ack[i]):\r\n",
        "            weights = updateWeights(weights, inputs, ack[i], targets)\r\n",
        "        print(ack[i])\r\n",
        "    return weights"
      ],
      "execution_count": null,
      "outputs": []
    },
    {
      "cell_type": "code",
      "metadata": {
        "colab": {
          "base_uri": "https://localhost:8080/"
        },
        "id": "_lOMkHVMCYbW",
        "outputId": "e38f3b67-492a-4172-a823-dafc37dc41fe"
      },
      "source": [
        "#Training our model and extracting stable weights\r\n",
        "iterations = 4\r\n",
        "for temp in range(0, iterations):\r\n",
        "    print(\"\\nIteration \",temp+1,\"\\n\")\r\n",
        "    weights = prediction(values, weights, final)\r\n",
        "    \r\n",
        "print(\"\\nTrained Weights\\n\", weights)"
      ],
      "execution_count": null,
      "outputs": [
        {
          "output_type": "stream",
          "text": [
            "\n",
            "Iteration  1 \n",
            "\n",
            "[0]\n",
            "[0]\n",
            "[1]\n",
            "\n",
            "Iteration  2 \n",
            "\n",
            "[1]\n",
            "[1]\n",
            "[1]\n",
            "\n",
            "Iteration  3 \n",
            "\n",
            "[1]\n",
            "[1]\n",
            "[1]\n",
            "\n",
            "Iteration  4 \n",
            "\n",
            "[1]\n",
            "[1]\n",
            "[1]\n",
            "\n",
            "Trained Weights\n",
            " [[-0.2315159 ]\n",
            " [ 1.32637077]\n",
            " [ 1.02381039]]\n"
          ],
          "name": "stdout"
        }
      ]
    },
    {
      "cell_type": "code",
      "metadata": {
        "colab": {
          "base_uri": "https://localhost:8080/",
          "height": 180
        },
        "id": "9qKci1qVCbcQ",
        "outputId": "e7654d9a-04e9-4bc8-e3fc-9570c405fcbb"
      },
      "source": [
        ""
      ],
      "execution_count": null,
      "outputs": [
        {
          "output_type": "error",
          "ename": "NameError",
          "evalue": "ignored",
          "traceback": [
            "\u001b[0;31m---------------------------------------------------------------------------\u001b[0m",
            "\u001b[0;31mNameError\u001b[0m                                 Traceback (most recent call last)",
            "\u001b[0;32m<ipython-input-10-88c4e6fc071a>\u001b[0m in \u001b[0;36m<module>\u001b[0;34m()\u001b[0m\n\u001b[1;32m      1\u001b[0m \u001b[0mnewInput\u001b[0m \u001b[0;34m=\u001b[0m \u001b[0;34m(\u001b[0m\u001b[0;34m[\u001b[0m\u001b[0;34m-\u001b[0m\u001b[0;36m1.0\u001b[0m\u001b[0;34m,\u001b[0m \u001b[0;36m7\u001b[0m\u001b[0;34m,\u001b[0m\u001b[0;36m8\u001b[0m\u001b[0;34m]\u001b[0m\u001b[0;34m)\u001b[0m\u001b[0;34m\u001b[0m\u001b[0;34m\u001b[0m\u001b[0m\n\u001b[0;32m----> 2\u001b[0;31m \u001b[0mperceptronPredict\u001b[0m\u001b[0;34m(\u001b[0m\u001b[0mweights\u001b[0m\u001b[0;34m,\u001b[0m \u001b[0mnewInput\u001b[0m\u001b[0;34m)\u001b[0m\u001b[0;34m\u001b[0m\u001b[0;34m\u001b[0m\u001b[0m\n\u001b[0m",
            "\u001b[0;31mNameError\u001b[0m: name 'perceptronPredict' is not defined"
          ]
        }
      ]
    },
    {
      "cell_type": "code",
      "metadata": {
        "id": "B6RaxMsOCeTr"
      },
      "source": [
        ""
      ],
      "execution_count": null,
      "outputs": []
    }
  ]
}
