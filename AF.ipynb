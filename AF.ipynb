{
  "nbformat": 4,
  "nbformat_minor": 0,
  "metadata": {
    "colab": {
      "name": "AF.ipynb",
      "provenance": [],
      "authorship_tag": "ABX9TyPUCyWcUcTRrlG5b3+fshNF",
      "include_colab_link": true
    },
    "kernelspec": {
      "name": "python3",
      "display_name": "Python 3"
    },
    "language_info": {
      "name": "python"
    }
  },
  "cells": [
    {
      "cell_type": "markdown",
      "metadata": {
        "id": "view-in-github",
        "colab_type": "text"
      },
      "source": [
        "<a href=\"https://colab.research.google.com/github/roysayan96/Deep_learning/blob/main/AF.ipynb\" target=\"_parent\"><img src=\"https://colab.research.google.com/assets/colab-badge.svg\" alt=\"Open In Colab\"/></a>"
      ]
    },
    {
      "cell_type": "markdown",
      "metadata": {
        "id": "dI3BvxSGrFF-"
      },
      "source": [
        "https://github.com/roysayan96/Deep_learning/blob/main/AF.ipynb"
      ]
    },
    {
      "cell_type": "markdown",
      "metadata": {
        "id": "Q13sFjqfc7NQ"
      },
      "source": [
        "**Sigmoid AF:** It is one of the most widely used non-linear activation function. Sigmoid transforms the values between the range 0 and 1. Here is the mathematical expression for sigmoid- f(x) = 1/(1+e^-x)"
      ]
    },
    {
      "cell_type": "code",
      "metadata": {
        "colab": {
          "base_uri": "https://localhost:8080/",
          "height": 295
        },
        "id": "uOboIQbMgtw5",
        "outputId": "2a1cfe5b-e602-46de-daa3-bfa6bb9537ac"
      },
      "source": [
        "# Import matplotlib, numpy and math \n",
        "import matplotlib.pyplot as plt \n",
        "import numpy as np \n",
        "import math \n",
        "  \n",
        "x = np.linspace(-10, 10, 100) \n",
        "z = 1/(1 + np.exp(-x)) \n",
        "  \n",
        "plt.plot(x, z) \n",
        "plt.xlabel(\"x\") \n",
        "plt.ylabel(\"Sigmoid(X)\")\n",
        "plt.title('Activation Function :Sigmoid') \n",
        "  \n",
        "plt.show() "
      ],
      "execution_count": null,
      "outputs": [
        {
          "output_type": "display_data",
          "data": {
            "image/png": "[encoded data removed]",
            "text/plain": [
              "<Figure size 432x288 with 1 Axes>"
            ]
          },
          "metadata": {
            "tags": [],
            "needs_background": "light"
          }
        }
      ]
    },
    {
      "cell_type": "code",
      "metadata": {
        "colab": {
          "base_uri": "https://localhost:8080/"
        },
        "id": "y5ijizRYgyP2",
        "outputId": "317ad9ff-c62c-476c-db87-72010c2a40f4"
      },
      "source": [
        "import numpy as np\n",
        "def sigmoid(z):\n",
        " return 1 / (1 + np.exp(-z))\n",
        "print(\"Sigmoid of 5 is:\",sigmoid (10))"
      ],
      "execution_count": null,
      "outputs": [
        {
          "output_type": "stream",
          "text": [
            "Sigmoid of 5 is: 0.9999546021312976\n"
          ],
          "name": "stdout"
        }
      ]
    },
    {
      "cell_type": "code",
      "metadata": {
        "id": "Nd3Txp0ThBys"
      },
      "source": [
        ""
      ],
      "execution_count": null,
      "outputs": []
    },
    {
      "cell_type": "markdown",
      "metadata": {
        "id": "5HOiuOxWhCFl"
      },
      "source": [
        "**Tanh Activation Function**:\n",
        "\n",
        "The tanh function is very similar to the sigmoid function. The only difference is that it is symmetric around the origin. The range of values in this case is from -1 to 1. Thus the inputs to the next layers will not always be of the same sign. The tanh function is defined as- tanh(x) = 2sigmoid(2x)-1\n"
      ]
    },
    {
      "cell_type": "code",
      "metadata": {
        "id": "nhqg5cFIhEdV"
      },
      "source": [
        "def tanh(x):\n",
        "    ''' It returns the value (1-exp(-2x))/(1+exp(-2x)) and the value returned will be lies in between -1 to 1.'''\n",
        "\n",
        "    return np.tanh(x)"
      ],
      "execution_count": null,
      "outputs": []
    },
    {
      "cell_type": "code",
      "metadata": {
        "colab": {
          "base_uri": "https://localhost:8080/",
          "height": 281
        },
        "id": "AFzy02rhqtlA",
        "outputId": "f00ccbb5-8b2b-472d-c646-3046f8b76759"
      },
      "source": [
        "x = np.linspace(-10, 10)\n",
        "plt.plot(x, tanh(x))\n",
        "plt.axis('tight')\n",
        "plt.title('Activation Function :Tanh')\n",
        "plt.show()"
      ],
      "execution_count": null,
      "outputs": [
        {
          "output_type": "display_data",
          "data": {
            "image/png": "[encoded data removed]",
            "text/plain": [
              "<Figure size 432x288 with 1 Axes>"
            ]
          },
          "metadata": {
            "tags": [],
            "needs_background": "light"
          }
        }
      ]
    },
    {
      "cell_type": "markdown",
      "metadata": {
        "id": "iFSAjSL_qx0n"
      },
      "source": [
        "**RELU Activation Function**:\n",
        "\n",
        "The ReLU function is another non-linear activation function that has gained popularity in the deep learning domain. ReLU stands for Rectified Linear Unit. The main advantage of using the ReLU function over other activation functions is that it does not activate all the neurons at the same time.\n",
        "\n",
        "This means that the neurons will only be deactivated if the output of the linear transformation is less than 0. f(x)=max(0,x)"
      ]
    },
    {
      "cell_type": "code",
      "metadata": {
        "colab": {
          "base_uri": "https://localhost:8080/"
        },
        "id": "gmOEIK8wq0CF",
        "outputId": "77ac5682-bbe5-421a-b057-571ea5c6994e"
      },
      "source": [
        "def relu(x):\n",
        "    return max(0.0, x)\n",
        " \n",
        "x = 1.0\n",
        "print('Applying Relu on (%.1f) gives %.1f' % (x, relu(x)))\n",
        "x = -10.0\n",
        "print('Applying Relu on (%.1f) gives %.1f' % (x, relu(x)))\n",
        "x = 0.0\n",
        "print('Applying Relu on (%.1f) gives %.1f' % (x, relu(x)))\n",
        "x = 15.0\n",
        "print('Applying Relu on (%.1f) gives %.1f' % (x, relu(x)))\n",
        "x = -20.0\n",
        "print('Applying Relu on (%.1f) gives %.1f' % (x, relu(x)))"
      ],
      "execution_count": null,
      "outputs": [
        {
          "output_type": "stream",
          "text": [
            "Applying Relu on (1.0) gives 1.0\n",
            "Applying Relu on (-10.0) gives 0.0\n",
            "Applying Relu on (0.0) gives 0.0\n",
            "Applying Relu on (15.0) gives 15.0\n",
            "Applying Relu on (-20.0) gives 0.0\n"
          ],
          "name": "stdout"
        }
      ]
    },
    {
      "cell_type": "code",
      "metadata": {
        "id": "si9cDD-wq0rn"
      },
      "source": [
        "from matplotlib import pyplot\n",
        " \n",
        "# rectified linear function\n",
        "def rectified(x):\n",
        "\treturn max(0.0, x)\n",
        " \n",
        "# define a series of inputs\n",
        "series_in = [x for x in range(-10, 11)]\n",
        "# calculate outputs for our inputs\n",
        "series_out = [rectified(x) for x in series_in]\n",
        "# line plot of raw inputs to rectified outputs\n",
        "pyplot.plot(series_in, series_out)\n",
        "pyplot.show()"
      ],
      "execution_count": null,
      "outputs": []
    },
    {
      "cell_type": "markdown",
      "metadata": {
        "id": "5PWsqoRpq5A_"
      },
      "source": [
        "**Leaky Relu Activation Function**:\n",
        "\n",
        "Leaky ReLU function is nothing but an improved version of the ReLU function. As we know that for the ReLU function, the gradient is 0 for x<0, which would deactivate the neurons in that region.\n",
        "\n",
        "Leaky ReLU is defined to address this problem. Instead of defining the Relu function as 0 for negative values of x, we define it as an extremely small linear component of x. Here is the mathematical expression-\n",
        "\n",
        "f(x)= 0.01x, x<0\n",
        "\n",
        "    =   x, x>=0"
      ]
    },
    {
      "cell_type": "code",
      "metadata": {
        "colab": {
          "base_uri": "https://localhost:8080/"
        },
        "id": "X9_gmYkGq61Y",
        "outputId": "2d0f3ba9-4588-47d8-ee28-b2d613df6c41"
      },
      "source": [
        "def leaky_relu(x):\n",
        "  if x>0 :\n",
        "    return x\n",
        "  else :\n",
        "    return 0.01*x\n",
        "  \n",
        "x = 1.0\n",
        "print('Applying Leaky Relu on (%.1f) gives %.1f' % (x, leaky_relu(x)))\n",
        "x = -10.0\n",
        "print('Applying Leaky Relu on (%.1f) gives %.1f' % (x, leaky_relu(x)))\n",
        "x = 0.0\n",
        "print('Applying Leaky Relu on (%.1f) gives %.1f' % (x, leaky_relu(x)))\n",
        "x = 15.0\n",
        "print('Applying Leaky Relu on (%.1f) gives %.1f' % (x, leaky_relu(x)))\n",
        "x = -20.0\n",
        "print('Applying Leaky Relu on (%.1f) gives %.1f' % (x, leaky_relu(x)))"
      ],
      "execution_count": null,
      "outputs": [
        {
          "output_type": "stream",
          "text": [
            "Applying Leaky Relu on (1.0) gives 1.0\n",
            "Applying Leaky Relu on (-10.0) gives -0.1\n",
            "Applying Leaky Relu on (0.0) gives 0.0\n",
            "Applying Leaky Relu on (15.0) gives 15.0\n",
            "Applying Leaky Relu on (-20.0) gives -0.2\n"
          ],
          "name": "stdout"
        }
      ]
    },
    {
      "cell_type": "code",
      "metadata": {
        "id": "kNZvaMHAq-F-"
      },
      "source": [
        "import numpy as np\n",
        "def leakyrelu(x):\n",
        "   return np.maximum(0.1*x,x)"
      ],
      "execution_count": null,
      "outputs": []
    },
    {
      "cell_type": "code",
      "metadata": {
        "colab": {
          "base_uri": "https://localhost:8080/",
          "height": 265
        },
        "id": "q3TTQNXwq-K_",
        "outputId": "0f99ea0e-a3a0-45d3-df89-40c6a8d35dc4"
      },
      "source": [
        "# plot inputs and outputs\n",
        "from matplotlib import pyplot\n",
        " \n",
        "# rectified linear function\n",
        "def leakyrelu(x):\n",
        "   return np.maximum(0.1*x,x)\n",
        " \n",
        "# define a series of inputs\n",
        "series_in = [x for x in range(-10, 11)]\n",
        "# calculate outputs for our inputs\n",
        "series_out = [leakyrelu(x) for x in series_in]\n",
        "# line plot of raw inputs to rectified outputs\n",
        "pyplot.plot(series_in, series_out)\n",
        "pyplot.show()"
      ],
      "execution_count": null,
      "outputs": [
        {
          "output_type": "display_data",
          "data": {
            "image/png": "[encoded data removed]",
            "text/plain": [
              "<Figure size 432x288 with 1 Axes>"
            ]
          },
          "metadata": {
            "tags": [],
            "needs_background": "light"
          }
        }
      ]
    }
  ]
}